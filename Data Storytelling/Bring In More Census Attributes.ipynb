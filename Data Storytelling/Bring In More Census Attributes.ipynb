{
 "cells": [
  {
   "cell_type": "code",
   "execution_count": 35,
   "metadata": {},
   "outputs": [],
   "source": [
    "import pandas as pd\n",
    "from uszipcode import ZipcodeSearchEngine\n",
    "from shapely.geometry import Point\n",
    "import geopandas as gpd\n",
    "from IPython.core.display import clear_output\n",
    "import seaborn as sns\n",
    "import matplotlib.pyplot as plt"
   ]
  },
  {
   "cell_type": "code",
   "execution_count": 4,
   "metadata": {},
   "outputs": [],
   "source": [
    "# read in matchine learning dataset\n",
    "df = pd.read_csv(r\"C:\\Users\\murra667\\Documents\\Springboard\\Capstone _1\\Data_Collection\\Craigslist Data\\geocode_2\\Data Collection and Cleaning\\Data Sources\\machine_learning_df.csv\")"
   ]
  },
  {
   "cell_type": "code",
   "execution_count": 15,
   "metadata": {},
   "outputs": [],
   "source": [
    "# convert latitude and longitude points into GIS data points\n",
    "geometry = [Point(xy) for xy in zip(df['geocode_lon'], df['geocode_lat'])]\n",
    "# set projections for geometry \n",
    "crs = {'init': 'epsg:4326'}\n",
    "# create dataframe with spatial attributes\n",
    "locations = gpd.GeoDataFrame(df, crs=crs, geometry=geometry)\n",
    "locations = locations.to_crs({'init': 'epsg:4326'})"
   ]
  },
  {
   "cell_type": "code",
   "execution_count": 23,
   "metadata": {},
   "outputs": [],
   "source": [
    "# create geodataframe of zipcodes of Minnesota\n",
    "zipcodes = gpd.GeoDataFrame.from_file(r'C:\\Users\\murra667\\Documents\\Springboard\\Capstone _1\\Data_Collection\\Craigslist Data\\geocode_2\\Data Storytelling\\zip_code_tabulation_areas.shp')\n",
    "# set projection of zipcodes\n",
    "zipcodes = zipcodes.to_crs({'init': 'epsg:4326'})\n",
    "# rename column of minnesota zipcodes file\n",
    "zipcodes = zipcodes.rename(columns={'GEOID10': 'zipcodes'})\n",
    "# perform spatial join between craigslist \n",
    "loc_zip_join = gpd.sjoin(locations, zipcodes, how=\"left\", op='within')"
   ]
  },
  {
   "cell_type": "code",
   "execution_count": 27,
   "metadata": {},
   "outputs": [],
   "source": [
    "# subset dataframe to include desired columns\n",
    "merged = loc_zip_join[['baths', 'url', 'datetime', 'address', 'beds boolean', 'beds', 'county', 'geocode_lat', 'geocode_lon', 'post id', 'price', 'price boolean', 'square feet', 'square feet boolean', 'title', 'City', 'one to studio', 'bed assigned', 'zipcodes']]"
   ]
  },
  {
   "cell_type": "code",
   "execution_count": 30,
   "metadata": {},
   "outputs": [
    {
     "name": "stdout",
     "output_type": "stream",
     "text": [
      "Request: 17111\n"
     ]
    }
   ],
   "source": [
    "# track progress of iterration\n",
    "count = 0\n",
    "for index, row in merged.iterrows():\n",
    "    # call zipcode search engine\n",
    "    search = ZipcodeSearchEngine()\n",
    "    # input each zipcode from dataframe into search engine\n",
    "    zipcode=search.by_zipcode(row['zipcodes'])\n",
    "    # get total number of units per zipcode according to census\n",
    "    units_tot = zipcode.HouseOfUnits\n",
    "    # get wealth rating of zipcode\n",
    "    wealth = zipcode.Wealthy\n",
    "    # get water area of zipcode\n",
    "    water_area = zipcode.WaterArea\n",
    "    # get density area of zipcode\n",
    "    density = zipcode.Density\n",
    "    # get population of zipcode\n",
    "    population = zipcode.Population\n",
    "    # get total wages of zipcode\n",
    "    total_wages = zipcode.TotalWages\n",
    "    # get land area of zipcode\n",
    "    land_area = zipcode.LandArea\n",
    "    # fill values at matching zipcode values in dataframe\n",
    "    # with census data at zipcode level \n",
    "    merged.loc[index, 'total units'] = units_tot\n",
    "    merged.loc[index, 'average annual income'] = wealth\n",
    "    merged.loc[index, 'water area'] = water_area\n",
    "    merged.loc[index, 'density'] = density\n",
    "    merged.loc[index, 'population'] = population\n",
    "    merged.loc[index, 'aggregate wages'] = total_wages\n",
    "    merged.loc[index, 'land area'] = land_area\n",
    "    # aggregate count of iteration\n",
    "    # and print\n",
    "    count += 1\n",
    "    print ('Request: {}'.format(count))\n",
    "    clear_output(wait = True)"
   ]
  },
  {
   "cell_type": "code",
   "execution_count": 32,
   "metadata": {},
   "outputs": [],
   "source": [
    "# save updated dataframe as new machine_learning_df\n",
    "merged.to_csv(\"machine_learning_df.csv\")"
   ]
  }
 ],
 "metadata": {
  "kernelspec": {
   "display_name": "Python 3",
   "language": "python",
   "name": "python3"
  },
  "language_info": {
   "codemirror_mode": {
    "name": "ipython",
    "version": 3
   },
   "file_extension": ".py",
   "mimetype": "text/x-python",
   "name": "python",
   "nbconvert_exporter": "python",
   "pygments_lexer": "ipython3",
   "version": "3.6.5"
  }
 },
 "nbformat": 4,
 "nbformat_minor": 2
}
