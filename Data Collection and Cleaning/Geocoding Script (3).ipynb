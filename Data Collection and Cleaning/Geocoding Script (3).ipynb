{
 "cells": [
  {
   "cell_type": "code",
   "execution_count": null,
   "metadata": {
    "collapsed": true
   },
   "outputs": [],
   "source": [
    "import googlemaps\n",
    "from datetime import datetime\n",
    "import pandas as pd\n",
    "from IPython.core.display import clear_output\n",
    "from random import randint\n",
    "from time import time \n",
    "import requests\n",
    "from requests import get\n",
    "from warnings import warn \n",
    "from bs4 import BeautifulSoup\n",
    "from IPython.core.display import clear_output\n",
    "from time import sleep\n",
    "from itertools import islice"
   ]
  },
  {
   "cell_type": "code",
   "execution_count": null,
   "metadata": {
    "collapsed": true
   },
   "outputs": [],
   "source": [
    "# assign filepath to csv variable\n",
    "csv = \"geocode_craigslist_rentals_2.csv\"\n",
    "# read csv \n",
    "df = pd.read_csv(csv)\n",
    "# set index\n",
    "index_list = list(range(len(df.index)))\n",
    "df['index'] = index_list\n",
    "df = df.set_index(['index'])\n",
    "# use islice function to select only within a range of 2500 rows to iterate thorugh\n",
    "# as this is the limit for google api\n",
    "for index, row in islice(df.iterrows(),5000, 7500):\n",
    "    # only make calls to Google Geocodie API for rows that have no geocode coordinates and DO HAVE (False indicates address present)\n",
    "    # an address\n",
    "    if (row['geocode_lat'] == \"none\") & (row['geocode_lon'] == \"none\") & (row['address_check'] == False):\n",
    "    # set count variable to track status of requests that script has made \n",
    "    count = 0 \n",
    "        try:\n",
    "            # sleep variable to wait 2 seconds between each address so as not to slow things down for Google\n",
    "            sleep((2))\n",
    "            # read in Google Geocode Key which can be obtained for free from Google\n",
    "            google_key = \" \"\n",
    "            gmaps = googlemaps.Client(key= google_key)\n",
    "            # make address a string to be read by google geocode\n",
    "            address = str(row['address']\n",
    "            # set result of geocode in a variable\n",
    "            geocode_result = gmaps.geocode(address)\n",
    "            # get latitude from geocode result\n",
    "            latitude = geocode_result[0]['geometry']['location']['lat']\n",
    "            # get longitude from geocode result\n",
    "            longitude = geocode_result[0]['geometry']['location']['lng'] \n",
    "            # set longitude at appropriate row where address was geocoded\n",
    "            df.loc[index, \"geocode_lon\"] = str(longitude)\n",
    "            # set latitude at appropriate row where address was geocoded\n",
    "            df.loc[index, \"geocode_lat\"] = str(latitude)\n",
    "            # increment count variable\n",
    "            count += 1\n",
    "            # print status of script\n",
    "            print ('Request: {}'.format(count))\n",
    "            clear_output(wait = True)\n",
    "        except:\n",
    "            # indicate error if geocode request doesn't work\n",
    "            df.loc[index, \"geocode_lon\"] = \"error\"\n",
    "            df.loc[index, \"geocode_lat\"] = \"error\"\n",
    "            # increment and display request count\n",
    "            count += 1\n",
    "            print ('Request: {}'.format(count))\n",
    "            clear_output(wait = True)\n",
    "# save data in same csv, so as to call on this csv to do \n",
    "# further geocode 2500 rows at a time\n",
    "df.to_csv('geocode_craigslist_rentals_2.csv', header=True)"
   ]
  }
 ],
 "metadata": {
  "kernelspec": {
   "display_name": "Python 3",
   "language": "python",
   "name": "python3"
  },
  "language_info": {
   "codemirror_mode": {
    "name": "ipython",
    "version": 3
   },
   "file_extension": ".py",
   "mimetype": "text/x-python",
   "name": "python",
   "nbconvert_exporter": "python",
   "pygments_lexer": "ipython3",
   "version": "3.6.3"
  }
 },
 "nbformat": 4,
 "nbformat_minor": 2
}
