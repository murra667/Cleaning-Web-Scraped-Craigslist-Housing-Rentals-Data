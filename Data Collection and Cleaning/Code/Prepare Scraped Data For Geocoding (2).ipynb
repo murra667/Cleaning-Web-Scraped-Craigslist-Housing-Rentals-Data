{
 "cells": [
  {
   "cell_type": "code",
   "execution_count": 75,
   "metadata": {},
   "outputs": [],
   "source": [
    "# pandas to work with dataframes\n",
    "import pandas as pd\n",
    "# import re to use regular expressions\n",
    "import re\n",
    "# import numpy\n",
    "import numpy as np\n",
    "# import glob to bring together multiple csv files\n",
    "import glob"
   ]
  },
  {
   "cell_type": "code",
   "execution_count": 76,
   "metadata": {},
   "outputs": [],
   "source": [
    "# search for csvs containing web-scraped data with the name scheme\n",
    "csvs = glob.glob(r'*Craigslist_ApartmentData_Minneapolis*.csv')\n",
    "# set dfs list to store each dataframe that gets read in\n",
    "dfs = []\n",
    "# iterate through csv files gathered in glob\n",
    "for file in csvs:\n",
    "    # read each csv as a dataframe with the same column names\n",
    "    df1 = pd.read_csv(file, names=['address', 'square feet', 'beds_baths', 'datetime', 'square feet 2', 'latitude', 'title', 'longitude', 'map accuracy', 'price', 'url', 'post id'])\n",
    "    # append dataframe to dfs list\n",
    "    dfs.append(df1)"
   ]
  },
  {
   "cell_type": "code",
   "execution_count": 77,
   "metadata": {},
   "outputs": [],
   "source": [
    "# concatenate dataframes in dfs together vertically\n",
    "df = pd.concat(dfs, axis=0)\n",
    "# check to see if address present, if it is, the boolean will be set to False\n",
    "# this seems counterintuitive\n",
    "df['address_check'] = [bool(re.match('nan', str(cell))) for cell in df['address']]\n",
    "# sort values by address_check column\n",
    "df = df.sort_values(['address_check'])\n",
    "# set an index of integers equal to the length of dataframe rows\n",
    "index_list = list(range(len(df.index)))\n",
    "# make index series a column in dataframe\n",
    "df['index'] = index_list\n",
    "# set index column as index of dataframe\n",
    "df = df.set_index(['index'])\n",
    "# set entire df type as string, as most operations will require data type to be string\n",
    "df = df.astype(str)"
   ]
  },
  {
   "cell_type": "code",
   "execution_count": 78,
   "metadata": {},
   "outputs": [],
   "source": [
    "# drop any post id values that are null\n",
    "postid_no_null = df.dropna(subset = ['post id'])\n",
    "# create dataframe where \"post id\" column is null\n",
    "null_id = df[df['post id'].isnull()]\n",
    "# drop duplicates in null_id dataframe using the \"title\" column\n",
    "null_id = null_id.drop_duplicates(subset=['title'], keep='first')\n",
    "# drop duplicates using \"post id\" column in the dataframe containing no null \"post id\" values\n",
    "postid_no_null = df.drop_duplicates(subset=['post id'], keep='first')\n",
    "# concatenate vertically null_id and postid_no_null dataframes\n",
    "df = pd.concat([null_id, postid_no_null])\n",
    "# drop latitude, longitude, map accuracy columns \n",
    "df = df.drop(columns=['latitude', 'longitude', 'map accuracy'])"
   ]
  },
  {
   "cell_type": "code",
   "execution_count": 5,
   "metadata": {
    "collapsed": true
   },
   "outputs": [],
   "source": [
    "# extract and store all possible valid square feet or beds values across columns where they might be\n",
    "# using findall function\n",
    "# column to store values of square feet that exist in column\n",
    "df['value_square_feet_two'] = [re.findall('\\d+ft', str(cell)) for cell in df['square feet 2']]\n",
    "# create column of all patterns of square feet that exist in  beds_baths column\n",
    "df['value_square_feet_three'] = [re.findall('\\d+ft', str(cell)) for cell in df['beds_baths']]\n",
    "# get all patterns of beds that exist in \"square feet 2\" column\n",
    "df['number_of_beds_2'] = [re.findall('\\d+br', str(cell)) for cell in df['square feet 2']]\n",
    "# clean values from columns to prepare them to be brought into \"square feet\", \"price\" and \"beds_baths\" columns\n",
    "df['number_of_beds_2'] = df['number_of_beds_2'].astype(str)\n",
    "df['value_square_feet_two'] = df['value_square_feet_two'].astype(str)\n",
    "df['value_square_feet_three'] = df['value_square_feet_three'].astype(str)"
   ]
  },
  {
   "cell_type": "code",
   "execution_count": 6,
   "metadata": {
    "collapsed": true
   },
   "outputs": [],
   "source": [
    "# create a boolean of whether or not a beds/bath pattern exists in the \"beds_baths\" column\n",
    "df['first_beds_boolean'] = [bool(re.search('\\d+[Bb]', cell)) for cell in df['beds_baths']] \n",
    "# get boolean of whether or not beds value is present in \"square feet 2\" column\n",
    "df['second_beds_boolean'] = [bool(re.search('\\d+br', str(cell))) for cell in df['square feet 2']]\n",
    "# clean value before moving\n",
    "df.loc[df['second_beds_boolean'] == 1, 'number_of_beds_2'] = df['number_of_beds_2'].apply(lambda x: str(x[2:-2]))\n",
    "# where value in \"beds_baths\" is not available, and is available in \"square feet 2\", \n",
    "# fill with the beds value of \"square feet 2\", stored in \"number_of_beds_2\"\n",
    "df.loc[(df['second_beds_boolean'] == 1) & (df['first_beds_boolean'] == 0), 'beds_baths'] = df['number_of_beds_2']\n",
    "# create a boolean of whether or not a square feet pattern exists in the \"square feet\" column\n",
    "df['first_square_feet_boolean'] = [bool(re.search('\\d+ft', str(cell))) for cell in df['square feet']]\n",
    "# boolean to see if row in square feet 2 column contains square feet value\n",
    "df['second_square_feet_boolean'] = [bool(re.search('\\d+ft', str(cell))) for cell in df['square feet 2']]\n",
    "# clean value before moving\n",
    "df.loc[df['second_square_feet_boolean'] == 1, 'value_square_feet_two'] = df['value_square_feet_two'].apply(lambda x: str(x[2:-2]))\n",
    "# where value in \"square feet\" is not available, and is available in \"square feet 2\", \n",
    "# fill with the square feet value of \"square feet 2\", stored in \"value_square_feet_two\"\n",
    "df.loc[(df['first_square_feet_boolean'] == 0) & (df['second_square_feet_boolean'] == 1), 'square feet'] = df['value_square_feet_two']\n",
    "# boolean to see if beds_baths column is True/False for square feet pattern\n",
    "df['third_square_feet_boolean'] = [bool(re.search('\\d+ft', str(cell))) for cell in df['beds_baths']]\n",
    "# clean value before moving\n",
    "df.loc[df['third_square_feet_boolean'] == 1, 'value_square_feet_three'] = df['value_square_feet_three'].apply(lambda x: str(x[2:-2]))\n",
    "# for all values in beds_bath where the square feet pattern is true, \n",
    "# cell value is updated with number in square_feet_one\n",
    "df.loc[(df['first_square_feet_boolean'] == 0) & (df['second_square_feet_boolean'] == 0) & (df['third_square_feet_boolean'] == 1), 'square feet'] = df['value_square_feet_three']"
   ]
  },
  {
   "cell_type": "code",
   "execution_count": 7,
   "metadata": {
    "collapsed": true
   },
   "outputs": [],
   "source": [
    "# for square feet, beds_baths and price columns, determine if appropriate values are present with boolean\n",
    "# in order to fill these columns with appropriate values in future operations\n",
    "df['square feet boolean'] = [bool(re.search('\\d+ft', str(cell))) for cell in df['square feet']]\n",
    "df['beds boolean'] = [bool(re.search('\\d+[Bb]', str(cell))) for cell in df['beds_baths']]\n",
    "df['price boolean'] = [bool(re.search('\\d+', str(cell))) for cell in df['price']]\n"
   ]
  },
  {
   "cell_type": "code",
   "execution_count": 8,
   "metadata": {
    "collapsed": true
   },
   "outputs": [],
   "source": [
    "# get just digits in square feet column \n",
    "df.loc[(df['square feet boolean'] == 1), 'square feet'] = df['square feet'].apply(lambda x: x[0:-3])\n",
    "# get just numerical value of beds_baths\n",
    "df.loc[df['beds_baths'].str.contains(r'B'), 'beds_baths'] = df['beds_baths'].apply(lambda x: x[0])\n",
    "# get just price in \"price\" column\n",
    "df['price'] = df.price.apply(lambda x: x.replace('$', ''))"
   ]
  },
  {
   "cell_type": "code",
   "execution_count": 9,
   "metadata": {
    "collapsed": true
   },
   "outputs": [],
   "source": [
    "# identify and drop posts associated with the superbowl\n",
    "df['check_superbowl'] = [bool(re.search(\"SUPERBOWL|Superbowl|SUPER BOWL|Super bowl|superbowl|super bowl|Super Bowl\", cell)) for cell in df['title']]\n",
    "df = df.drop(df[df['check_superbowl'] == 1].index)"
   ]
  },
  {
   "cell_type": "code",
   "execution_count": 10,
   "metadata": {
    "collapsed": true
   },
   "outputs": [],
   "source": [
    "# extract url information from \"url\" column and fill as value in \"county\" column\n",
    "df['county'] = [str(re.findall('org/.../', cell))[6:9] for cell in df['url']]\n",
    "# create county_lat, county_lon columns\n",
    "df['county_state'] = df['county']\n",
    "df['county_state'] = df['county']\n",
    "# create a column county_state with county and state to append to each respective address\n",
    "df['county_state'] = df['county']\n",
    "df.loc[(df['county'] == \"hnp\"), \"county_state\"] = \" ,Hennepin County, Minnesota\"\n",
    "df.loc[(df['county'] == \"ram\"), \"county_state\"] = \" ,Ramsey County, Minnesota\"\n",
    "df.loc[(df['county'] == \"dak\"), \"county_state\"] = \" ,Dakota County, Minnesota\"\n",
    "df.loc[(df['county'] == \"ank\"), \"county_state\"] = \" ,Anoka County, Minnesota\"\n",
    "df.loc[(df['county'] == \"wsh\"), \"county_state\"] = \" ,Washington County, Minnesota\"\n",
    "df.loc[(df['county'] == \"csw\"), \"county_state\"] = \" ,Carver County, Minnesota\"\n",
    "# append the value in county_state to each respective address\n",
    "df.loc[(df['address_check'] == True), 'address'] = df[['address', 'county_state']].apply(''.join, axis=1)"
   ]
  },
  {
   "cell_type": "code",
   "execution_count": 11,
   "metadata": {
    "collapsed": true
   },
   "outputs": [],
   "source": [
    "# create geocode_lat and geocode_lon columns for geocoding\n",
    "df['geocode_lat'] = \"none\"\n",
    "df['geocode_lon'] = \"none\""
   ]
  },
  {
   "cell_type": "code",
   "execution_count": 12,
   "metadata": {
    "collapsed": true
   },
   "outputs": [],
   "source": [
    "# save dataframe without missing addresses to be geocoded\n",
    "# then resume script after values have been geocoded\n",
    "df.to_csv('geocode_craigslist_rentals_2.csv')"
   ]
  }
 ],
 "metadata": {
  "kernelspec": {
   "display_name": "Python 3",
   "language": "python",
   "name": "python3"
  },
  "language_info": {
   "codemirror_mode": {
    "name": "ipython",
    "version": 3
   },
   "file_extension": ".py",
   "mimetype": "text/x-python",
   "name": "python",
   "nbconvert_exporter": "python",
   "pygments_lexer": "ipython3",
   "version": "3.6.5"
  }
 },
 "nbformat": 4,
 "nbformat_minor": 2
}
